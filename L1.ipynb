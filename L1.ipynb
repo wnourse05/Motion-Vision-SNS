{
 "cells": [
  {
   "cell_type": "code",
   "execution_count": 52,
   "id": "0e442ad0-e86b-4b3a-86ee-b5eb6a36ca5c",
   "metadata": {},
   "outputs": [],
   "source": [
    "from sns_toolbox.connections import NonSpikingPatternConnection, NonSpikingSynapse\n",
    "from sns_toolbox.networks import Network\n",
    "from sns_toolbox.neurons import NonSpikingNeuron\n",
    "from sns_toolbox.renderer import render\n",
    "\n",
    "import numpy as np\n",
    "import matplotlib\n",
    "import matplotlib.pyplot as plt\n",
    "import cv2 as cv\n",
    "import sys"
   ]
  },
  {
   "cell_type": "code",
   "execution_count": 2,
   "id": "d87b0171-faa9-48f5-b121-59e334003647",
   "metadata": {},
   "outputs": [
    {
     "data": {
      "text/plain": [
       "(-0.5, 31.5, 31.5, -0.5)"
      ]
     },
     "execution_count": 2,
     "metadata": {},
     "output_type": "execute_result"
    },
    {
     "data": {
      "image/png": "[encoded data removed]",
      "text/plain": [
       "<Figure size 640x480 with 1 Axes>"
      ]
     },
     "metadata": {},
     "output_type": "display_data"
    }
   ],
   "source": [
    "img = cv.imread('/home/will/Pictures/sample_images/cameraman.png')   # load image file\n",
    "\n",
    "shape_original = img.shape  # dimensions of the original image\n",
    "dim_long = max(shape_original[0],shape_original[1]) # longest dimension of the original image\n",
    "dim_desired_max = 32    # constrain the longest dimension for easier processing\n",
    "ratio = dim_desired_max/dim_long    # scaling ratio of original image\n",
    "img_resized = cv.resize(img,None,fx=ratio,fy=ratio) # scale original image using ratio\n",
    "\n",
    "img_color = cv.cvtColor(img, cv.COLOR_BGR2RGB)  # transform the image from BGR to RGB\n",
    "img_color_resized = cv.cvtColor(img_resized, cv.COLOR_BGR2RGB)  # resize the RGB image\n",
    "img_gray = cv.cvtColor(img_resized, cv.COLOR_BGR2GRAY)  # convert the resized image to grayscale [0-255]\n",
    "\n",
    "shape = img_gray.shape  # dimensions of the resized grayscale image\n",
    "\n",
    "img_flat = img_gray.flatten()   # flatten the image into 1 vector for neural processing\n",
    "flat_size = len(img_flat)   # length of the flattened image vector\n",
    "\n",
    "plt.figure()\n",
    "plt.imshow(img_gray,cmap='gray')\n",
    "plt.axis('off')"
   ]
  },
  {
   "cell_type": "code",
   "execution_count": 3,
   "id": "f6920a45-ef46-427c-ac61-adb56c1a3189",
   "metadata": {},
   "outputs": [],
   "source": [
    "# General Network\n",
    "R = 20.0\n",
    "net = Network(name='L1')\n",
    "img_flat = img_flat*R/255.0"
   ]
  },
  {
   "cell_type": "code",
   "execution_count": 4,
   "id": "f8b52665-5092-4448-b956-66c8a97d402d",
   "metadata": {},
   "outputs": [],
   "source": [
    "# Retina\n",
    "neuron_retina = NonSpikingNeuron()\n",
    "net.add_population(neuron_retina,shape,name='Retina') # add a 2d population the same size as the scaled image\n",
    "net.add_input('Retina', size=flat_size,name='Image')    # add a vector input for the flattened scaled image\n",
    "net.add_output('Retina',name='Retina Output')  # add a vector output from the retina, scaled correctly"
   ]
  },
  {
   "cell_type": "code",
   "execution_count": 5,
   "id": "4f3028db-2856-46dc-8601-708eec539292",
   "metadata": {},
   "outputs": [],
   "source": [
    "def calc_g_max(g_m, e_r, u_str, u_pre_str, R, del_e):\n",
    "    g_max = (g_m * (e_r - u_str))/((u_pre_str/R)*(u_str-del_e))\n",
    "    return g_max"
   ]
  },
  {
   "cell_type": "code",
   "execution_count": 6,
   "id": "71553472-7aaf-4022-8391-d71c3af90c63",
   "metadata": {},
   "outputs": [
    {
     "name": "stdout",
     "output_type": "stream",
     "text": [
      "1.0\n",
      "0.06666666666666667\n"
     ]
    },
    {
     "data": {
      "image/svg+xml": [
       "<?xml version=\"1.0\" encoding=\"UTF-8\" standalone=\"no\"?>\n",
       "<!DOCTYPE svg PUBLIC \"-//W3C//DTD SVG 1.1//EN\"\n",
       " \"http://www.w3.org/Graphics/SVG/1.1/DTD/svg11.dtd\">\n",
       "<!-- Generated by graphviz version 2.43.0 (0)\n",
       " -->\n",
       "<!-- Title: %3 Pages: 1 -->\n",
       "<svg width=\"329pt\" height=\"260pt\"\n",
       " viewBox=\"0.00 0.00 328.53 260.00\" xmlns=\"http://www.w3.org/2000/svg\" xmlns:xlink=\"http://www.w3.org/1999/xlink\">\n",
       "<g id=\"graph0\" class=\"graph\" transform=\"scale(1 1) rotate(0) translate(4 256)\">\n",
       "<title>%3</title>\n",
       "<polygon fill=\"white\" stroke=\"transparent\" points=\"-4,4 -4,-256 324.53,-256 324.53,4 -4,4\"/>\n",
       "<!-- 0 -->\n",
       "<g id=\"node1\" class=\"node\">\n",
       "<title>0</title>\n",
       "<polygon fill=\"white\" stroke=\"black\" points=\"183.23,-180 124.23,-180 120.23,-176 120.23,-144 179.23,-144 183.23,-148 183.23,-180\"/>\n",
       "<polyline fill=\"none\" stroke=\"black\" points=\"179.23,-176 120.23,-176 \"/>\n",
       "<polyline fill=\"none\" stroke=\"black\" points=\"179.23,-176 179.23,-144 \"/>\n",
       "<polyline fill=\"none\" stroke=\"black\" points=\"179.23,-176 183.23,-180 \"/>\n",
       "<text text-anchor=\"middle\" x=\"151.73\" y=\"-158.3\" font-family=\"Times,serif\" font-size=\"14.00\">Retina</text>\n",
       "</g>\n",
       "<!-- 1 -->\n",
       "<g id=\"node2\" class=\"node\">\n",
       "<title>1</title>\n",
       "<polygon fill=\"white\" stroke=\"black\" points=\"112.73,-108 48.73,-108 44.73,-104 44.73,-72 108.73,-72 112.73,-76 112.73,-108\"/>\n",
       "<polyline fill=\"none\" stroke=\"black\" points=\"108.73,-104 44.73,-104 \"/>\n",
       "<polyline fill=\"none\" stroke=\"black\" points=\"108.73,-104 108.73,-72 \"/>\n",
       "<polyline fill=\"none\" stroke=\"black\" points=\"108.73,-104 112.73,-108 \"/>\n",
       "<text text-anchor=\"middle\" x=\"78.73\" y=\"-86.3\" font-family=\"Times,serif\" font-size=\"14.00\">L1_3x3</text>\n",
       "</g>\n",
       "<!-- 0&#45;&gt;1 -->\n",
       "<g id=\"edge4\" class=\"edge\">\n",
       "<title>0&#45;&gt;1</title>\n",
       "<path fill=\"none\" stroke=\"black\" d=\"M133.69,-143.7C124.67,-135.05 113.61,-124.45 103.79,-115.03\"/>\n",
       "<polygon fill=\"black\" stroke=\"black\" points=\"96.57,-108.1 106.9,-111.78 100.18,-111.56 103.79,-115.03 103.79,-115.03 103.79,-115.03 100.18,-111.56 100.67,-118.27 96.57,-108.1 96.57,-108.1\"/>\n",
       "</g>\n",
       "<!-- Out0 -->\n",
       "<g id=\"node4\" class=\"node\">\n",
       "<title>Out0</title>\n",
       "<polygon fill=\"white\" stroke=\"black\" points=\"320.33,-95.56 225.73,-108 131.13,-95.56 131.22,-75.44 320.24,-75.44 320.33,-95.56\"/>\n",
       "<polyline fill=\"none\" stroke=\"black\" points=\"232.38,-107.13 219.08,-107.13 \"/>\n",
       "<polyline fill=\"none\" stroke=\"black\" points=\"137.79,-96.44 131.16,-88.85 \"/>\n",
       "<polyline fill=\"none\" stroke=\"black\" points=\"131.19,-82.15 137.93,-75.44 \"/>\n",
       "<polyline fill=\"none\" stroke=\"black\" points=\"313.53,-75.44 320.27,-82.15 \"/>\n",
       "<polyline fill=\"none\" stroke=\"black\" points=\"320.3,-88.85 313.68,-96.44 \"/>\n",
       "<text text-anchor=\"middle\" x=\"225.73\" y=\"-86.3\" font-family=\"Times,serif\" font-size=\"14.00\">Retina Output</text>\n",
       "</g>\n",
       "<!-- 0&#45;&gt;Out0 -->\n",
       "<g id=\"edge2\" class=\"edge\">\n",
       "<title>0&#45;&gt;Out0</title>\n",
       "<path fill=\"none\" stroke=\"black\" d=\"M170.02,-143.7C179.71,-134.53 191.72,-123.18 202.1,-113.35\"/>\n",
       "<polygon fill=\"black\" stroke=\"black\" points=\"204.8,-115.62 209.66,-106.2 199.99,-110.53 204.8,-115.62\"/>\n",
       "</g>\n",
       "<!-- Out1 -->\n",
       "<g id=\"node5\" class=\"node\">\n",
       "<title>Out1</title>\n",
       "<polygon fill=\"white\" stroke=\"black\" points=\"157.69,-23.56 78.73,-36 -0.23,-23.56 -0.16,-3.44 157.62,-3.44 157.69,-23.56\"/>\n",
       "<polyline fill=\"none\" stroke=\"black\" points=\"85.36,-34.96 72.1,-34.96 \"/>\n",
       "<polyline fill=\"none\" stroke=\"black\" points=\"6.4,-24.61 -0.21,-16.85 \"/>\n",
       "<polyline fill=\"none\" stroke=\"black\" points=\"-0.18,-10.15 6.55,-3.44 \"/>\n",
       "<polyline fill=\"none\" stroke=\"black\" points=\"150.91,-3.44 157.64,-10.15 \"/>\n",
       "<polyline fill=\"none\" stroke=\"black\" points=\"157.67,-16.85 151.07,-24.61 \"/>\n",
       "<text text-anchor=\"middle\" x=\"78.73\" y=\"-14.3\" font-family=\"Times,serif\" font-size=\"14.00\">3x3 Output</text>\n",
       "</g>\n",
       "<!-- 1&#45;&gt;Out1 -->\n",
       "<g id=\"edge3\" class=\"edge\">\n",
       "<title>1&#45;&gt;Out1</title>\n",
       "<path fill=\"none\" stroke=\"black\" d=\"M78.73,-71.7C78.73,-63.98 78.73,-54.71 78.73,-46.11\"/>\n",
       "<polygon fill=\"black\" stroke=\"black\" points=\"82.23,-46.1 78.73,-36.1 75.23,-46.1 82.23,-46.1\"/>\n",
       "</g>\n",
       "<!-- In0 -->\n",
       "<g id=\"node3\" class=\"node\">\n",
       "<title>In0</title>\n",
       "<polygon fill=\"white\" stroke=\"black\" points=\"102.72,-228.44 151.73,-216 200.74,-228.44 200.7,-248.56 102.76,-248.56 102.72,-228.44\"/>\n",
       "<polyline fill=\"none\" stroke=\"black\" points=\"145.23,-217.65 158.23,-217.65 \"/>\n",
       "<polyline fill=\"none\" stroke=\"black\" points=\"194.24,-226.79 200.73,-235.15 \"/>\n",
       "<polyline fill=\"none\" stroke=\"black\" points=\"200.71,-241.85 193.99,-248.56 \"/>\n",
       "<polyline fill=\"none\" stroke=\"black\" points=\"109.47,-248.56 102.75,-241.85 \"/>\n",
       "<polyline fill=\"none\" stroke=\"black\" points=\"102.73,-235.15 109.22,-226.79 \"/>\n",
       "<text text-anchor=\"middle\" x=\"151.73\" y=\"-230.3\" font-family=\"Times,serif\" font-size=\"14.00\">Image</text>\n",
       "</g>\n",
       "<!-- In0&#45;&gt;0 -->\n",
       "<g id=\"edge1\" class=\"edge\">\n",
       "<title>In0&#45;&gt;0</title>\n",
       "<path fill=\"none\" stroke=\"black\" d=\"M151.73,-215.7C151.73,-207.98 151.73,-198.71 151.73,-190.11\"/>\n",
       "<polygon fill=\"black\" stroke=\"black\" points=\"155.23,-190.1 151.73,-180.1 148.23,-190.1 155.23,-190.1\"/>\n",
       "</g>\n",
       "</g>\n",
       "</svg>\n"
      ],
      "text/plain": [
       "<graphviz.graphs.Digraph at 0x7f0a3b0896a0>"
      ]
     },
     "execution_count": 6,
     "metadata": {},
     "output_type": "execute_result"
    }
   ],
   "source": [
    "# L1 3x3\n",
    "neuron_lamina = NonSpikingNeuron(resting_potential=R)\n",
    "net.add_population(neuron_lamina, shape, name='L1_3x3')\n",
    "\n",
    "del_e_in = -1*R\n",
    "\n",
    "center_str = 0\n",
    "g_max_ctr = calc_g_max(1,R,center_str,R,R,del_e_in)\n",
    "print(g_max_ctr)\n",
    "\n",
    "edge_str = (7/8)*R\n",
    "g_max_edge = calc_g_max(1,R,edge_str,R,R,del_e_in)\n",
    "print(g_max_edge)\n",
    "\n",
    "g_max_kernel = np.array([[g_max_edge, g_max_edge, g_max_edge],\n",
    "                         [g_max_edge, g_max_ctr, g_max_edge],\n",
    "                         [g_max_edge, g_max_edge, g_max_edge]])\n",
    "\n",
    "del_e_kernel = np.zeros([3,3]) + del_e_in\n",
    "\n",
    "e_lo_kernel = np.zeros([3,3])\n",
    "e_hi_kernel = np.zeros([3,3]) + R\n",
    "connection_L1_3x3 = NonSpikingPatternConnection(g_max_kernel,del_e_kernel,e_lo_kernel,e_hi_kernel) # pattern connection (acts as high pass filter)\n",
    "net.add_connection(connection_L1_3x3,'Retina','L1_3x3',name='3x3') # connect the retina to the lamina\n",
    "net.add_output('L1_3x3',name='3x3 Output')  # add a vector output from the lamina\n",
    "\n",
    "render(net)"
   ]
  },
  {
   "cell_type": "code",
   "execution_count": 7,
   "id": "c6c1cfc6-c90a-4c2b-a3dc-0d4d0eb0d3bb",
   "metadata": {},
   "outputs": [
    {
     "name": "stdout",
     "output_type": "stream",
     "text": [
      "1.0\n",
      "0.06666666666666667\n",
      "0.03225806451612903\n"
     ]
    },
    {
     "data": {
      "image/svg+xml": [
       "<?xml version=\"1.0\" encoding=\"UTF-8\" standalone=\"no\"?>\n",
       "<!DOCTYPE svg PUBLIC \"-//W3C//DTD SVG 1.1//EN\"\n",
       " \"http://www.w3.org/Graphics/SVG/1.1/DTD/svg11.dtd\">\n",
       "<!-- Generated by graphviz version 2.43.0 (0)\n",
       " -->\n",
       "<!-- Title: %3 Pages: 1 -->\n",
       "<svg width=\"481pt\" height=\"260pt\"\n",
       " viewBox=\"0.00 0.00 480.53 260.00\" xmlns=\"http://www.w3.org/2000/svg\" xmlns:xlink=\"http://www.w3.org/1999/xlink\">\n",
       "<g id=\"graph0\" class=\"graph\" transform=\"scale(1 1) rotate(0) translate(4 256)\">\n",
       "<title>%3</title>\n",
       "<polygon fill=\"white\" stroke=\"transparent\" points=\"-4,4 -4,-256 476.53,-256 476.53,4 -4,4\"/>\n",
       "<!-- 0 -->\n",
       "<g id=\"node1\" class=\"node\">\n",
       "<title>0</title>\n",
       "<polygon fill=\"white\" stroke=\"black\" points=\"262.23,-180 203.23,-180 199.23,-176 199.23,-144 258.23,-144 262.23,-148 262.23,-180\"/>\n",
       "<polyline fill=\"none\" stroke=\"black\" points=\"258.23,-176 199.23,-176 \"/>\n",
       "<polyline fill=\"none\" stroke=\"black\" points=\"258.23,-176 258.23,-144 \"/>\n",
       "<polyline fill=\"none\" stroke=\"black\" points=\"258.23,-176 262.23,-180 \"/>\n",
       "<text text-anchor=\"middle\" x=\"230.73\" y=\"-158.3\" font-family=\"Times,serif\" font-size=\"14.00\">Retina</text>\n",
       "</g>\n",
       "<!-- 1 -->\n",
       "<g id=\"node2\" class=\"node\">\n",
       "<title>1</title>\n",
       "<polygon fill=\"white\" stroke=\"black\" points=\"156.73,-108 92.73,-108 88.73,-104 88.73,-72 152.73,-72 156.73,-76 156.73,-108\"/>\n",
       "<polyline fill=\"none\" stroke=\"black\" points=\"152.73,-104 88.73,-104 \"/>\n",
       "<polyline fill=\"none\" stroke=\"black\" points=\"152.73,-104 152.73,-72 \"/>\n",
       "<polyline fill=\"none\" stroke=\"black\" points=\"152.73,-104 156.73,-108 \"/>\n",
       "<text text-anchor=\"middle\" x=\"122.73\" y=\"-86.3\" font-family=\"Times,serif\" font-size=\"14.00\">L1_3x3</text>\n",
       "</g>\n",
       "<!-- 0&#45;&gt;1 -->\n",
       "<g id=\"edge5\" class=\"edge\">\n",
       "<title>0&#45;&gt;1</title>\n",
       "<path fill=\"none\" stroke=\"black\" d=\"M204.31,-143.88C190.32,-134.81 172.95,-123.55 157.84,-113.76\"/>\n",
       "<polygon fill=\"black\" stroke=\"black\" points=\"149.25,-108.19 160.09,-109.85 153.45,-110.91 157.64,-113.63 157.64,-113.63 157.64,-113.63 153.45,-110.91 155.2,-117.4 149.25,-108.19 149.25,-108.19\"/>\n",
       "</g>\n",
       "<!-- 2 -->\n",
       "<g id=\"node3\" class=\"node\">\n",
       "<title>2</title>\n",
       "<polygon fill=\"white\" stroke=\"black\" points=\"264.73,-108 200.73,-108 196.73,-104 196.73,-72 260.73,-72 264.73,-76 264.73,-108\"/>\n",
       "<polyline fill=\"none\" stroke=\"black\" points=\"260.73,-104 196.73,-104 \"/>\n",
       "<polyline fill=\"none\" stroke=\"black\" points=\"260.73,-104 260.73,-72 \"/>\n",
       "<polyline fill=\"none\" stroke=\"black\" points=\"260.73,-104 264.73,-108 \"/>\n",
       "<text text-anchor=\"middle\" x=\"230.73\" y=\"-86.3\" font-family=\"Times,serif\" font-size=\"14.00\">L1_5x5</text>\n",
       "</g>\n",
       "<!-- 0&#45;&gt;2 -->\n",
       "<g id=\"edge6\" class=\"edge\">\n",
       "<title>0&#45;&gt;2</title>\n",
       "<path fill=\"none\" stroke=\"black\" d=\"M230.73,-143.7C230.73,-135.98 230.73,-126.71 230.73,-118.11\"/>\n",
       "<polygon fill=\"black\" stroke=\"black\" points=\"230.73,-108.1 235.23,-118.1 230.73,-113.1 230.73,-118.1 230.73,-118.1 230.73,-118.1 230.73,-113.1 226.23,-118.1 230.73,-108.1 230.73,-108.1\"/>\n",
       "</g>\n",
       "<!-- Out0 -->\n",
       "<g id=\"node5\" class=\"node\">\n",
       "<title>Out0</title>\n",
       "<polygon fill=\"white\" stroke=\"black\" points=\"472.33,-95.56 377.73,-108 283.13,-95.56 283.22,-75.44 472.24,-75.44 472.33,-95.56\"/>\n",
       "<polyline fill=\"none\" stroke=\"black\" points=\"384.38,-107.13 371.08,-107.13 \"/>\n",
       "<polyline fill=\"none\" stroke=\"black\" points=\"289.79,-96.44 283.16,-88.85 \"/>\n",
       "<polyline fill=\"none\" stroke=\"black\" points=\"283.19,-82.15 289.93,-75.44 \"/>\n",
       "<polyline fill=\"none\" stroke=\"black\" points=\"465.53,-75.44 472.27,-82.15 \"/>\n",
       "<polyline fill=\"none\" stroke=\"black\" points=\"472.3,-88.85 465.68,-96.44 \"/>\n",
       "<text text-anchor=\"middle\" x=\"377.73\" y=\"-86.3\" font-family=\"Times,serif\" font-size=\"14.00\">Retina Output</text>\n",
       "</g>\n",
       "<!-- 0&#45;&gt;Out0 -->\n",
       "<g id=\"edge2\" class=\"edge\">\n",
       "<title>0&#45;&gt;Out0</title>\n",
       "<path fill=\"none\" stroke=\"black\" d=\"M262.27,-145.98C285.2,-135.06 316.34,-120.23 340.5,-108.73\"/>\n",
       "<polygon fill=\"black\" stroke=\"black\" points=\"342.2,-111.8 349.72,-104.34 339.19,-105.48 342.2,-111.8\"/>\n",
       "</g>\n",
       "<!-- Out1 -->\n",
       "<g id=\"node6\" class=\"node\">\n",
       "<title>Out1</title>\n",
       "<polygon fill=\"white\" stroke=\"black\" points=\"157.69,-23.56 78.73,-36 -0.23,-23.56 -0.16,-3.44 157.62,-3.44 157.69,-23.56\"/>\n",
       "<polyline fill=\"none\" stroke=\"black\" points=\"85.36,-34.96 72.1,-34.96 \"/>\n",
       "<polyline fill=\"none\" stroke=\"black\" points=\"6.4,-24.61 -0.21,-16.85 \"/>\n",
       "<polyline fill=\"none\" stroke=\"black\" points=\"-0.18,-10.15 6.55,-3.44 \"/>\n",
       "<polyline fill=\"none\" stroke=\"black\" points=\"150.91,-3.44 157.64,-10.15 \"/>\n",
       "<polyline fill=\"none\" stroke=\"black\" points=\"157.67,-16.85 151.07,-24.61 \"/>\n",
       "<text text-anchor=\"middle\" x=\"78.73\" y=\"-14.3\" font-family=\"Times,serif\" font-size=\"14.00\">3x3 Output</text>\n",
       "</g>\n",
       "<!-- 1&#45;&gt;Out1 -->\n",
       "<g id=\"edge3\" class=\"edge\">\n",
       "<title>1&#45;&gt;Out1</title>\n",
       "<path fill=\"none\" stroke=\"black\" d=\"M111.85,-71.7C106.45,-63.11 99.84,-52.58 93.95,-43.21\"/>\n",
       "<polygon fill=\"black\" stroke=\"black\" points=\"96.87,-41.27 88.58,-34.67 90.94,-45 96.87,-41.27\"/>\n",
       "</g>\n",
       "<!-- Out2 -->\n",
       "<g id=\"node7\" class=\"node\">\n",
       "<title>Out2</title>\n",
       "<polygon fill=\"white\" stroke=\"black\" points=\"332.69,-23.56 253.73,-36 174.77,-23.56 174.84,-3.44 332.62,-3.44 332.69,-23.56\"/>\n",
       "<polyline fill=\"none\" stroke=\"black\" points=\"260.36,-34.96 247.1,-34.96 \"/>\n",
       "<polyline fill=\"none\" stroke=\"black\" points=\"181.4,-24.61 174.79,-16.85 \"/>\n",
       "<polyline fill=\"none\" stroke=\"black\" points=\"174.82,-10.15 181.55,-3.44 \"/>\n",
       "<polyline fill=\"none\" stroke=\"black\" points=\"325.91,-3.44 332.64,-10.15 \"/>\n",
       "<polyline fill=\"none\" stroke=\"black\" points=\"332.67,-16.85 326.07,-24.61 \"/>\n",
       "<text text-anchor=\"middle\" x=\"253.73\" y=\"-14.3\" font-family=\"Times,serif\" font-size=\"14.00\">5x5 Output</text>\n",
       "</g>\n",
       "<!-- 2&#45;&gt;Out2 -->\n",
       "<g id=\"edge4\" class=\"edge\">\n",
       "<title>2&#45;&gt;Out2</title>\n",
       "<path fill=\"none\" stroke=\"black\" d=\"M236.42,-71.7C239.04,-63.7 242.22,-54.02 245.14,-45.15\"/>\n",
       "<polygon fill=\"black\" stroke=\"black\" points=\"248.47,-46.22 248.27,-35.62 241.82,-44.03 248.47,-46.22\"/>\n",
       "</g>\n",
       "<!-- In0 -->\n",
       "<g id=\"node4\" class=\"node\">\n",
       "<title>In0</title>\n",
       "<polygon fill=\"white\" stroke=\"black\" points=\"181.72,-228.44 230.73,-216 279.74,-228.44 279.7,-248.56 181.76,-248.56 181.72,-228.44\"/>\n",
       "<polyline fill=\"none\" stroke=\"black\" points=\"224.23,-217.65 237.23,-217.65 \"/>\n",
       "<polyline fill=\"none\" stroke=\"black\" points=\"273.24,-226.79 279.73,-235.15 \"/>\n",
       "<polyline fill=\"none\" stroke=\"black\" points=\"279.71,-241.85 272.99,-248.56 \"/>\n",
       "<polyline fill=\"none\" stroke=\"black\" points=\"188.47,-248.56 181.75,-241.85 \"/>\n",
       "<polyline fill=\"none\" stroke=\"black\" points=\"181.73,-235.15 188.22,-226.79 \"/>\n",
       "<text text-anchor=\"middle\" x=\"230.73\" y=\"-230.3\" font-family=\"Times,serif\" font-size=\"14.00\">Image</text>\n",
       "</g>\n",
       "<!-- In0&#45;&gt;0 -->\n",
       "<g id=\"edge1\" class=\"edge\">\n",
       "<title>In0&#45;&gt;0</title>\n",
       "<path fill=\"none\" stroke=\"black\" d=\"M230.73,-215.7C230.73,-207.98 230.73,-198.71 230.73,-190.11\"/>\n",
       "<polygon fill=\"black\" stroke=\"black\" points=\"234.23,-190.1 230.73,-180.1 227.23,-190.1 234.23,-190.1\"/>\n",
       "</g>\n",
       "</g>\n",
       "</svg>\n"
      ],
      "text/plain": [
       "<graphviz.graphs.Digraph at 0x7f0acc2b3430>"
      ]
     },
     "execution_count": 7,
     "metadata": {},
     "output_type": "execute_result"
    }
   ],
   "source": [
    "# L1 5x5\n",
    "neuron_lamina = NonSpikingNeuron(resting_potential=R)\n",
    "net.add_population(neuron_lamina, shape, name='L1_5x5')\n",
    "\n",
    "del_e_in = -1*R\n",
    "del_e_ex = 3*R\n",
    "\n",
    "center_str = 0\n",
    "g_max_ctr = calc_g_max(1,R,center_str,R,R,del_e_in)\n",
    "print(g_max_ctr)\n",
    "\n",
    "inner_edge_str = (7/8)*R\n",
    "g_max_edge_inner = calc_g_max(1,R,inner_edge_str,R,R,del_e_in)\n",
    "print(g_max_edge_inner)\n",
    "\n",
    "outer_edge_str = (17/16)*R\n",
    "g_max_edge_outer = calc_g_max(1,R,outer_edge_str,R,R,del_e_ex)\n",
    "print(g_max_edge_outer)\n",
    "\n",
    "g_max_kernel = np.array([[g_max_edge_outer, g_max_edge_outer, g_max_edge_outer, g_max_edge_outer, g_max_edge_outer],\n",
    "                         [g_max_edge_outer, g_max_edge_inner, g_max_edge_inner, g_max_edge_inner, g_max_edge_outer],\n",
    "                         [g_max_edge_outer, g_max_edge_inner, g_max_ctr, g_max_edge_inner, g_max_edge_outer],\n",
    "                         [g_max_edge_outer, g_max_edge_inner, g_max_edge_inner, g_max_edge_inner, g_max_edge_outer],\n",
    "                         [g_max_edge_outer, g_max_edge_outer, g_max_edge_outer, g_max_edge_outer, g_max_edge_outer]])\n",
    "\n",
    "del_e_kernel = np.array([[del_e_ex, del_e_ex, del_e_ex, del_e_ex, del_e_ex],\n",
    "                         [del_e_ex, del_e_in, del_e_in, del_e_in, del_e_ex],\n",
    "                         [del_e_ex, del_e_in, del_e_in, del_e_in, del_e_ex],\n",
    "                         [del_e_ex, del_e_in, del_e_in, del_e_in, del_e_ex],\n",
    "                         [del_e_ex, del_e_ex, del_e_ex, del_e_ex, del_e_ex]])\n",
    "\n",
    "e_lo_kernel = np.zeros([5,5])\n",
    "e_hi_kernel = np.zeros([5,5]) + R\n",
    "connection_L1_5x5 = NonSpikingPatternConnection(g_max_kernel,del_e_kernel,e_lo_kernel,e_hi_kernel) # pattern connection (acts as high pass filter)\n",
    "net.add_connection(connection_L1_5x5,'Retina','L1_5x5',name='5x5') # connect the retina to the lamina\n",
    "net.add_output('L1_5x5',name='5x5 Output')  # add a vector output from the lamina\n",
    "\n",
    "render(net)"
   ]
  },
  {
   "cell_type": "code",
   "execution_count": 12,
   "id": "ec89c295-f8b0-4aa3-a3c0-05ecd9ade296",
   "metadata": {},
   "outputs": [],
   "source": [
    "dt = neuron_retina.params['membrane_capacitance']/neuron_retina.params['membrane_conductance']  # calculate the ideal dt\n",
    "t_max = 15  # run for 15 ms\n",
    "steps = int(t_max/dt)   # number of steps to simulate\n",
    "\n",
    "model = net.compile(backend='numpy',dt=dt,debug=False) # compile using the numpy backend"
   ]
  },
  {
   "cell_type": "code",
   "execution_count": 13,
   "id": "aa0c55ff-e31d-4355-b006-ee8b91325156",
   "metadata": {},
   "outputs": [
    {
     "name": "stdout",
     "output_type": "stream",
     "text": [
      "1 / 3 steps\n",
      "2 / 3 steps\n",
      "3 / 3 steps\n"
     ]
    },
    {
     "data": {
      "image/png": "[encoded data removed]",
      "text/plain": [
       "<Figure size 640x480 with 3 Axes>"
      ]
     },
     "metadata": {},
     "output_type": "display_data"
    },
    {
     "data": {
      "image/png": "[encoded data removed]",
      "text/plain": [
       "<Figure size 640x480 with 3 Axes>"
      ]
     },
     "metadata": {},
     "output_type": "display_data"
    },
    {
     "data": {
      "image/png": "[encoded data removed]",
      "text/plain": [
       "<Figure size 640x480 with 3 Axes>"
      ]
     },
     "metadata": {},
     "output_type": "display_data"
    }
   ],
   "source": [
    "for i in range(steps):\n",
    "    print('%i / %i steps'%(i+1,steps))\n",
    "    plt.figure()    # create a figure for live plotting the retina and lamina states\n",
    "    plt.subplot(1,3,1)\n",
    "    plt.title('Retina')\n",
    "    plt.axis('off')\n",
    "    plt.subplot(1,3,2)\n",
    "    plt.title('L1 3x3')\n",
    "    plt.axis('off')\n",
    "    plt.subplot(1,3,3)\n",
    "    plt.title('L1 5x5')\n",
    "    plt.axis('off')\n",
    "\n",
    "    out = model(img_flat)   # run the network for one dt\n",
    "    retina = out[:flat_size]    # separate the retina and lamina states\n",
    "    lamina_small = out[flat_size:2*flat_size]\n",
    "    lamina_large = out[2*flat_size:]\n",
    "    retina_reshape = np.reshape(retina,shape)   # reshape to from flat to an image\n",
    "    lamina_small_reshape = np.reshape(lamina_small,shape)\n",
    "    lamina_large_reshape = np.reshape(lamina_large,shape)\n",
    "    plt.subplot(1,3,1)  # plot the current state\n",
    "    plt.imshow(retina_reshape,cmap='gray')\n",
    "    plt.subplot(1, 3, 2)\n",
    "    plt.imshow(lamina_small_reshape, cmap='gray')\n",
    "    plt.subplot(1, 3, 3)\n",
    "    plt.imshow(lamina_large_reshape, cmap='gray')"
   ]
  },
  {
   "cell_type": "code",
   "execution_count": 29,
   "id": "c130463c-069c-4664-91f8-23efcfb43669",
   "metadata": {},
   "outputs": [
    {
     "name": "stdout",
     "output_type": "stream",
     "text": [
      "1.0\n",
      "0.06666666666666667\n",
      "0.03225806451612903\n"
     ]
    },
    {
     "data": {
      "image/svg+xml": [
       "<?xml version=\"1.0\" encoding=\"UTF-8\" standalone=\"no\"?>\n",
       "<!DOCTYPE svg PUBLIC \"-//W3C//DTD SVG 1.1//EN\"\n",
       " \"http://www.w3.org/Graphics/SVG/1.1/DTD/svg11.dtd\">\n",
       "<!-- Generated by graphviz version 2.43.0 (0)\n",
       " -->\n",
       "<!-- Title: %3 Pages: 1 -->\n",
       "<svg width=\"653pt\" height=\"260pt\"\n",
       " viewBox=\"0.00 0.00 653.20 260.00\" xmlns=\"http://www.w3.org/2000/svg\" xmlns:xlink=\"http://www.w3.org/1999/xlink\">\n",
       "<g id=\"graph0\" class=\"graph\" transform=\"scale(1 1) rotate(0) translate(4 256)\">\n",
       "<title>%3</title>\n",
       "<polygon fill=\"white\" stroke=\"transparent\" points=\"-4,4 -4,-256 649.2,-256 649.2,4 -4,4\"/>\n",
       "<!-- 0 -->\n",
       "<g id=\"node1\" class=\"node\">\n",
       "<title>0</title>\n",
       "<ellipse fill=\"white\" stroke=\"black\" cx=\"355.4\" cy=\"-162\" rx=\"40.89\" ry=\"18\"/>\n",
       "<text text-anchor=\"middle\" x=\"355.4\" y=\"-158.3\" font-family=\"Times,serif\" font-size=\"14.00\">Retina</text>\n",
       "</g>\n",
       "<!-- 1 -->\n",
       "<g id=\"node2\" class=\"node\">\n",
       "<title>1</title>\n",
       "<ellipse fill=\"white\" stroke=\"black\" cx=\"151.4\" cy=\"-90\" rx=\"42.49\" ry=\"18\"/>\n",
       "<text text-anchor=\"middle\" x=\"151.4\" y=\"-86.3\" font-family=\"Times,serif\" font-size=\"14.00\">Center</text>\n",
       "</g>\n",
       "<!-- 0&#45;&gt;1 -->\n",
       "<g id=\"edge6\" class=\"edge\">\n",
       "<title>0&#45;&gt;1</title>\n",
       "<path fill=\"none\" stroke=\"black\" d=\"M323.98,-150.22C288.29,-137.97 230,-117.97 191.18,-104.65\"/>\n",
       "<ellipse fill=\"black\" stroke=\"black\" cx=\"186.99\" cy=\"-103.21\" rx=\"4\" ry=\"4\"/>\n",
       "</g>\n",
       "<!-- 2 -->\n",
       "<g id=\"node3\" class=\"node\">\n",
       "<title>2</title>\n",
       "<ellipse fill=\"white\" stroke=\"black\" cx=\"308.4\" cy=\"-90\" rx=\"42.79\" ry=\"18\"/>\n",
       "<text text-anchor=\"middle\" x=\"308.4\" y=\"-86.3\" font-family=\"Times,serif\" font-size=\"14.00\">Middle</text>\n",
       "</g>\n",
       "<!-- 0&#45;&gt;2 -->\n",
       "<g id=\"edge7\" class=\"edge\">\n",
       "<title>0&#45;&gt;2</title>\n",
       "<path fill=\"none\" stroke=\"black\" d=\"M344.27,-144.41C338.24,-135.43 330.69,-124.19 324.08,-114.34\"/>\n",
       "<ellipse fill=\"black\" stroke=\"black\" cx=\"321.69\" cy=\"-110.79\" rx=\"4\" ry=\"4\"/>\n",
       "</g>\n",
       "<!-- 3 -->\n",
       "<g id=\"node4\" class=\"node\">\n",
       "<title>3</title>\n",
       "<ellipse fill=\"white\" stroke=\"black\" cx=\"403.4\" cy=\"-90\" rx=\"34.39\" ry=\"18\"/>\n",
       "<text text-anchor=\"middle\" x=\"403.4\" y=\"-86.3\" font-family=\"Times,serif\" font-size=\"14.00\">Edge</text>\n",
       "</g>\n",
       "<!-- 0&#45;&gt;3 -->\n",
       "<g id=\"edge8\" class=\"edge\">\n",
       "<title>0&#45;&gt;3</title>\n",
       "<path fill=\"none\" stroke=\"black\" d=\"M366.78,-144.41C372.64,-135.87 379.9,-125.28 386.41,-115.79\"/>\n",
       "<polygon fill=\"none\" stroke=\"black\" points=\"395,-109.45 386.46,-115.72 389.22,-105.49 395,-109.45\"/>\n",
       "</g>\n",
       "<!-- Out0 -->\n",
       "<g id=\"node6\" class=\"node\">\n",
       "<title>Out0</title>\n",
       "<polygon fill=\"white\" stroke=\"black\" points=\"645,-95.56 550.4,-108 455.81,-95.56 455.9,-75.44 644.91,-75.44 645,-95.56\"/>\n",
       "<text text-anchor=\"middle\" x=\"550.4\" y=\"-86.3\" font-family=\"Times,serif\" font-size=\"14.00\">Retina Output</text>\n",
       "</g>\n",
       "<!-- 0&#45;&gt;Out0 -->\n",
       "<g id=\"edge2\" class=\"edge\">\n",
       "<title>0&#45;&gt;Out0</title>\n",
       "<path fill=\"none\" stroke=\"black\" d=\"M386.3,-149.91C418.64,-138.3 469.69,-119.97 506.27,-106.84\"/>\n",
       "<polygon fill=\"black\" stroke=\"black\" points=\"507.47,-110.13 515.7,-103.46 505.11,-103.54 507.47,-110.13\"/>\n",
       "</g>\n",
       "<!-- Out1 -->\n",
       "<g id=\"node7\" class=\"node\">\n",
       "<title>Out1</title>\n",
       "<polygon fill=\"white\" stroke=\"black\" points=\"192.71,-23.56 96.4,-36 0.1,-23.56 0.19,-3.44 192.62,-3.44 192.71,-23.56\"/>\n",
       "<text text-anchor=\"middle\" x=\"96.4\" y=\"-14.3\" font-family=\"Times,serif\" font-size=\"14.00\">Center Output</text>\n",
       "</g>\n",
       "<!-- 1&#45;&gt;Out1 -->\n",
       "<g id=\"edge3\" class=\"edge\">\n",
       "<title>1&#45;&gt;Out1</title>\n",
       "<path fill=\"none\" stroke=\"black\" d=\"M138.65,-72.76C131.61,-63.8 122.74,-52.51 114.94,-42.59\"/>\n",
       "<polygon fill=\"black\" stroke=\"black\" points=\"117.64,-40.37 108.71,-34.67 112.14,-44.69 117.64,-40.37\"/>\n",
       "</g>\n",
       "<!-- Out2 -->\n",
       "<g id=\"node8\" class=\"node\">\n",
       "<title>Out2</title>\n",
       "<polygon fill=\"white\" stroke=\"black\" points=\"405.82,-23.56 308.4,-36 210.99,-23.56 211.08,-3.44 405.73,-3.44 405.82,-23.56\"/>\n",
       "<text text-anchor=\"middle\" x=\"308.4\" y=\"-14.3\" font-family=\"Times,serif\" font-size=\"14.00\">Middle Output</text>\n",
       "</g>\n",
       "<!-- 2&#45;&gt;Out2 -->\n",
       "<g id=\"edge4\" class=\"edge\">\n",
       "<title>2&#45;&gt;Out2</title>\n",
       "<path fill=\"none\" stroke=\"black\" d=\"M308.4,-71.7C308.4,-63.98 308.4,-54.71 308.4,-46.11\"/>\n",
       "<polygon fill=\"black\" stroke=\"black\" points=\"311.9,-46.1 308.4,-36.1 304.9,-46.1 311.9,-46.1\"/>\n",
       "</g>\n",
       "<!-- Out3 -->\n",
       "<g id=\"node9\" class=\"node\">\n",
       "<title>Out3</title>\n",
       "<polygon fill=\"white\" stroke=\"black\" points=\"596.93,-23.56 510.4,-36 423.88,-23.56 423.96,-3.44 596.85,-3.44 596.93,-23.56\"/>\n",
       "<text text-anchor=\"middle\" x=\"510.4\" y=\"-14.3\" font-family=\"Times,serif\" font-size=\"14.00\">Edge Output</text>\n",
       "</g>\n",
       "<!-- 3&#45;&gt;Out3 -->\n",
       "<g id=\"edge5\" class=\"edge\">\n",
       "<title>3&#45;&gt;Out3</title>\n",
       "<path fill=\"none\" stroke=\"black\" d=\"M424.04,-75.5C440.01,-65.06 462.35,-50.43 480.32,-38.68\"/>\n",
       "<polygon fill=\"black\" stroke=\"black\" points=\"482.28,-41.58 488.74,-33.18 478.45,-35.72 482.28,-41.58\"/>\n",
       "</g>\n",
       "<!-- In0 -->\n",
       "<g id=\"node5\" class=\"node\">\n",
       "<title>In0</title>\n",
       "<polygon fill=\"white\" stroke=\"black\" points=\"311.03,-228.44 355.4,-216 399.78,-228.44 399.74,-248.56 311.07,-248.56 311.03,-228.44\"/>\n",
       "<text text-anchor=\"middle\" x=\"355.4\" y=\"-230.3\" font-family=\"Times,serif\" font-size=\"14.00\">Input</text>\n",
       "</g>\n",
       "<!-- In0&#45;&gt;0 -->\n",
       "<g id=\"edge1\" class=\"edge\">\n",
       "<title>In0&#45;&gt;0</title>\n",
       "<path fill=\"none\" stroke=\"black\" d=\"M355.4,-215.7C355.4,-207.98 355.4,-198.71 355.4,-190.11\"/>\n",
       "<polygon fill=\"black\" stroke=\"black\" points=\"358.9,-190.1 355.4,-180.1 351.9,-190.1 358.9,-190.1\"/>\n",
       "</g>\n",
       "</g>\n",
       "</svg>\n"
      ],
      "text/plain": [
       "<graphviz.graphs.Digraph at 0x7f0a369aa5b0>"
      ]
     },
     "execution_count": 29,
     "metadata": {},
     "output_type": "execute_result"
    }
   ],
   "source": [
    "field_net = Network(name='L1 Field')\n",
    "neuron_retina = NonSpikingNeuron(membrane_capacitance=1.0)\n",
    "field_net.add_neuron(neuron_retina, name='Retina', initial_value=R)\n",
    "field_net.add_input('Retina')\n",
    "field_net.add_output('Retina', name='Retina Output')\n",
    "\n",
    "neuron_lamina = NonSpikingNeuron(resting_potential=R, membrane_capacitance=1.0)\n",
    "field_net.add_neuron(neuron_lamina, name='Center')\n",
    "field_net.add_neuron(neuron_lamina, name='Middle')\n",
    "field_net.add_neuron(neuron_lamina, name='Edge')\n",
    "\n",
    "del_e_in = -1*R\n",
    "del_e_ex = 3*R\n",
    "\n",
    "center_str = 0\n",
    "g_max_ctr = calc_g_max(1,R,center_str,R,R,del_e_in)\n",
    "print(g_max_ctr)\n",
    "\n",
    "inner_edge_str = (7/8)*R\n",
    "g_max_edge_inner = calc_g_max(1,R,inner_edge_str,R,R,del_e_in)\n",
    "print(g_max_edge_inner)\n",
    "\n",
    "outer_edge_str = (17/16)*R\n",
    "g_max_edge_outer = calc_g_max(1,R,outer_edge_str,R,R,del_e_ex)\n",
    "print(g_max_edge_outer)\n",
    "\n",
    "connection_center = NonSpikingSynapse(max_conductance=g_max_ctr, reversal_potential=del_e_in, e_hi=R)\n",
    "connection_middle = NonSpikingSynapse(max_conductance=g_max_edge_inner, reversal_potential=del_e_in, e_hi=R)\n",
    "connection_edge = NonSpikingSynapse(max_conductance=g_max_edge_outer, reversal_potential=del_e_ex, e_hi=R)\n",
    "\n",
    "field_net.add_connection(connection_center,'Retina','Center')\n",
    "field_net.add_output('Center',name='Center Output')\n",
    "field_net.add_connection(connection_middle,'Retina','Middle')\n",
    "field_net.add_output('Middle',name='Middle Output')\n",
    "field_net.add_connection(connection_edge,'Retina','Edge')\n",
    "field_net.add_output('Edge',name='Edge Output') \n",
    "\n",
    "render(field_net)"
   ]
  },
  {
   "cell_type": "code",
   "execution_count": 32,
   "id": "cd3f05aa-c393-4980-bd5d-058daad6f075",
   "metadata": {},
   "outputs": [],
   "source": [
    "dt = 0.1\n",
    "t_max = 15  # run for 15 ms\n",
    "t = np.arange(0, t_max, dt)\n",
    "\n",
    "model_field = field_net.compile(backend='numpy',dt=dt,debug=False) # compile using the numpy backend\n",
    "\n",
    "Iapp = np.array([[R]])\n",
    "data = np.zeros([len(t),field_net.get_num_outputs_actual()])\n",
    "\n",
    "for i in range(len(t)):\n",
    "    data[i,:] = model_field.forward(Iapp[0,:])\n",
    "    \n",
    "data = data.transpose()"
   ]
  },
  {
   "cell_type": "code",
   "execution_count": 33,
   "id": "1de14d69-2a59-4db0-9843-c6bd12c5435a",
   "metadata": {},
   "outputs": [
    {
     "data": {
      "text/plain": [
       "Text(0.5, 1.0, 'Edge')"
      ]
     },
     "execution_count": 33,
     "metadata": {},
     "output_type": "execute_result"
    },
    {
     "data": {
      "image/png": "[encoded data removed]",
      "text/plain": [
       "<Figure size 640x480 with 1 Axes>"
      ]
     },
     "metadata": {},
     "output_type": "display_data"
    },
    {
     "data": {
      "image/png": "[encoded data removed]",
      "text/plain": [
       "<Figure size 640x480 with 1 Axes>"
      ]
     },
     "metadata": {},
     "output_type": "display_data"
    },
    {
     "data": {
      "image/png": "[encoded data removed]",
      "text/plain": [
       "<Figure size 640x480 with 1 Axes>"
      ]
     },
     "metadata": {},
     "output_type": "display_data"
    },
    {
     "data": {
      "image/png": "[encoded data removed]",
      "text/plain": [
       "<Figure size 640x480 with 1 Axes>"
      ]
     },
     "metadata": {},
     "output_type": "display_data"
    }
   ],
   "source": [
    "plt.figure()\n",
    "plt.plot(t, data[:][0])\n",
    "plt.title('Retina')\n",
    "plt.figure()\n",
    "plt.plot(t, data[:][1])\n",
    "plt.title('Center')\n",
    "plt.figure()\n",
    "plt.plot(t, data[:][2])\n",
    "plt.title('Inner')\n",
    "plt.figure()\n",
    "plt.plot(t, data[:][3])\n",
    "plt.title('Edge')"
   ]
  },
  {
   "cell_type": "code",
   "execution_count": 55,
   "id": "a3bb0db9-0cca-48d5-9125-e6c022235bfa",
   "metadata": {},
   "outputs": [
    {
     "name": "stdout",
     "output_type": "stream",
     "text": [
      "(4, 150)\n"
     ]
    },
    {
     "data": {
      "image/png": "[encoded data removed]",
      "text/plain": [
       "<Figure size 640x480 with 2 Axes>"
      ]
     },
     "metadata": {},
     "output_type": "display_data"
    }
   ],
   "source": [
    "receptive_field = np.array([[data[3][-1], data[3][-1], data[3][-1], data[3][-1], data[3][-1]],\n",
    "                            [data[3][-1], data[2][-1], data[2][-1], data[2][-1], data[3][-1]],\n",
    "                            [data[3][-1], data[2][-1], data[1][-1], data[2][-1], data[3][-1]],\n",
    "                            [data[3][-1], data[2][-1], data[2][-1], data[2][-1], data[3][-1]],\n",
    "                            [data[3][-1], data[3][-1], data[3][-1], data[3][-1], data[3][-1]]])\n",
    "\n",
    "field_cmap_vals = [0, R, 2*R]\n",
    "field_cmap_colors = ['blue', 'white', 'red']\n",
    "field_cmap_norm = plt.Normalize(min(field_cmap_vals), max(field_cmap_vals))\n",
    "field_cmap_tuples = list(zip(map(field_cmap_norm,field_cmap_vals), field_cmap_colors))\n",
    "field_cmap = matplotlib.colors.LinearSegmentedColormap.from_list(\"\", field_cmap_tuples)\n",
    "\n",
    "plt.figure()\n",
    "plt.imshow(receptive_field, cmap=field_cmap, norm=field_cmap_norm)\n",
    "plt.colorbar()\n",
    "print(data.shape)"
   ]
  },
  {
   "cell_type": "code",
   "execution_count": null,
   "id": "2ec3eca7-71d8-4a17-b8db-d678a6f8c591",
   "metadata": {},
   "outputs": [],
   "source": []
  }
 ],
 "metadata": {
  "kernelspec": {
   "display_name": "Python 3 (ipykernel)",
   "language": "python",
   "name": "python3"
  },
  "language_info": {
   "codemirror_mode": {
    "name": "ipython",
    "version": 3
   },
   "file_extension": ".py",
   "mimetype": "text/x-python",
   "name": "python",
   "nbconvert_exporter": "python",
   "pygments_lexer": "ipython3",
   "version": "3.8.10"
  }
 },
 "nbformat": 4,
 "nbformat_minor": 5
}
